{
 "cells": [
  {
   "cell_type": "markdown",
   "metadata": {
    "toc": true
   },
   "source": [
    "<h1>Table of Contents<span class=\"tocSkip\"></span></h1>\n",
    "<div class=\"toc\"><ul class=\"toc-item\"><li><span><a href=\"#Row\" data-toc-modified-id=\"Row-1\"><span class=\"toc-item-num\">1&nbsp;&nbsp;</span>Row</a></span></li><li><span><a href=\"#Colonnes\" data-toc-modified-id=\"Colonnes-2\"><span class=\"toc-item-num\">2&nbsp;&nbsp;</span>Colonnes</a></span></li><li><span><a href=\"#expr\" data-toc-modified-id=\"expr-3\"><span class=\"toc-item-num\">3&nbsp;&nbsp;</span>expr</a></span></li><li><span><a href=\"#Transformations\" data-toc-modified-id=\"Transformations-4\"><span class=\"toc-item-num\">4&nbsp;&nbsp;</span>Transformations</a></span><ul class=\"toc-item\"><li><span><a href=\"#Projections\" data-toc-modified-id=\"Projections-4.1\"><span class=\"toc-item-num\">4.1&nbsp;&nbsp;</span>Projections</a></span><ul class=\"toc-item\"><li><span><a href=\"#selectExpr\" data-toc-modified-id=\"selectExpr-4.1.1\"><span class=\"toc-item-num\">4.1.1&nbsp;&nbsp;</span>selectExpr</a></span></li><li><span><a href=\"#drop\" data-toc-modified-id=\"drop-4.1.2\"><span class=\"toc-item-num\">4.1.2&nbsp;&nbsp;</span>drop</a></span></li><li><span><a href=\"#orderBy\" data-toc-modified-id=\"orderBy-4.1.3\"><span class=\"toc-item-num\">4.1.3&nbsp;&nbsp;</span>orderBy</a></span></li></ul></li></ul></li></ul></div>"
   ]
  },
  {
   "cell_type": "code",
   "execution_count": 1,
   "metadata": {
    "ExecuteTime": {
     "end_time": "2021-12-07T09:04:29.892503Z",
     "start_time": "2021-12-07T09:04:29.863580Z"
    }
   },
   "outputs": [
    {
     "data": {
      "text/html": [
       "\n",
       "            <div>\n",
       "                <p><b>SparkSession - hive</b></p>\n",
       "                \n",
       "        <div>\n",
       "            <p><b>SparkContext</b></p>\n",
       "\n",
       "            <p><a href=\"http://minerve.olimp.fr:4040\">Spark UI</a></p>\n",
       "\n",
       "            <dl>\n",
       "              <dt>Version</dt>\n",
       "                <dd><code>v4.0.1</code></dd>\n",
       "              <dt>Master</dt>\n",
       "                <dd><code>local[*]</code></dd>\n",
       "              <dt>AppName</dt>\n",
       "                <dd><code>PySparkShell</code></dd>\n",
       "            </dl>\n",
       "        </div>\n",
       "        \n",
       "            </div>\n",
       "        "
      ],
      "text/plain": [
       "<pyspark.sql.session.SparkSession at 0x79e74432f620>"
      ]
     },
     "execution_count": 1,
     "metadata": {},
     "output_type": "execute_result"
    }
   ],
   "source": [
    "spark"
   ]
  },
  {
   "cell_type": "markdown",
   "metadata": {
    "ExecuteTime": {
     "end_time": "2021-12-07T07:50:21.795770Z",
     "start_time": "2021-12-07T07:50:21.781805Z"
    }
   },
   "source": [
    "# Row\n",
    "Un DataFrame est un objet de type **« Dataset[Row] »**, ainsi toutes les caractéristiques de l’objet **« Dataset »** sont également valables pour les **DataFrames**."
   ]
  },
  {
   "cell_type": "code",
   "execution_count": 2,
   "metadata": {
    "ExecuteTime": {
     "end_time": "2021-12-07T09:04:34.170235Z",
     "start_time": "2021-12-07T09:04:29.894498Z"
    }
   },
   "outputs": [
    {
     "name": "stderr",
     "output_type": "stream",
     "text": [
      "                                                                                "
     ]
    },
    {
     "name": "stdout",
     "output_type": "stream",
     "text": [
      "+---+--------+-----+\n",
      "| Id|  Prenom|  Nom|\n",
      "+---+--------+-----+\n",
      "|  1|Isabelle|BIZOÏ|\n",
      "|  2|  Razvan|BIZOÏ|\n",
      "+---+--------+-----+\n",
      "\n"
     ]
    }
   ],
   "source": [
    "from pyspark.sql import Row\n",
    "from pyspark.sql.functions import *\n",
    "\n",
    "uneLigne = Row(1,\"Isabelle\",\"BIZOÏ\")\n",
    "uneAutre = Row(2,\"Razvan\",\"BIZOÏ\")\n",
    "listeLignes = [uneLigne,uneAutre]\n",
    "personnes = spark.createDataFrame(listeLignes,[\"Id\",\"Prenom\",\"Nom\"])\n",
    "personnes.show()"
   ]
  },
  {
   "cell_type": "markdown",
   "metadata": {},
   "source": [
    "# Colonnes\n",
    "\n",
    "<img src=\"https://raw.githubusercontent.com/rbizoi/AnalyserLesDonneesAvecSpark/main/DataFrameSpark/images/M06-01.png\" width=\"400\">    "
   ]
  },
  {
   "cell_type": "code",
   "execution_count": 3,
   "metadata": {},
   "outputs": [
    {
     "name": "stdout",
     "output_type": "stream",
     "text": [
      "root\n",
      " |-- Id: long (nullable = true)\n",
      " |-- Prenom: string (nullable = true)\n",
      " |-- Nom: string (nullable = true)\n",
      "\n"
     ]
    }
   ],
   "source": [
    "personnes.printSchema()"
   ]
  },
  {
   "cell_type": "code",
   "execution_count": 4,
   "metadata": {},
   "outputs": [
    {
     "data": {
      "text/plain": [
       "(3, ['Id', 'Prenom', 'Nom'])"
      ]
     },
     "execution_count": 4,
     "metadata": {},
     "output_type": "execute_result"
    }
   ],
   "source": [
    "len(personnes.columns), personnes.columns"
   ]
  },
  {
   "cell_type": "code",
   "execution_count": 5,
   "metadata": {},
   "outputs": [
    {
     "data": {
      "text/plain": [
       "(Column<'Nom'>, Column<'Prenom'>, Column<'Id'>)"
      ]
     },
     "execution_count": 5,
     "metadata": {},
     "output_type": "execute_result"
    }
   ],
   "source": [
    "personnes.Nom,personnes[\"Prenom\"],personnes.Id"
   ]
  }
 ],
 "metadata": {
  "kernelspec": {
   "display_name": "Python 3 (ipykernel)",
   "language": "python",
   "name": "python3"
  },
  "language_info": {
   "codemirror_mode": {
    "name": "ipython",
    "version": 3
   },
   "file_extension": ".py",
   "mimetype": "text/x-python",
   "name": "python",
   "nbconvert_exporter": "python",
   "pygments_lexer": "ipython3",
   "version": "3.13.7"
  },
  "toc": {
   "base_numbering": 1,
   "nav_menu": {},
   "number_sections": true,
   "sideBar": true,
   "skip_h1_title": false,
   "title_cell": "Table of Contents",
   "title_sidebar": "Contents",
   "toc_cell": true,
   "toc_position": {},
   "toc_section_display": true,
   "toc_window_display": false
  }
 },
 "nbformat": 4,
 "nbformat_minor": 4
}
