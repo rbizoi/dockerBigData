{
 "cells": [
  {
   "cell_type": "markdown",
   "metadata": {
    "toc": true
   },
   "source": [
    "<h1>Table of Contents<span class=\"tocSkip\"></span></h1>\n",
    "<div class=\"toc\"><ul class=\"toc-item\"><li><span><a href=\"#isnull\" data-toc-modified-id=\"isnull-1\"><span class=\"toc-item-num\">1&nbsp;&nbsp;</span>isnull</a></span><ul class=\"toc-item\"><li><span><a href=\"#na\" data-toc-modified-id=\"na-1.1\"><span class=\"toc-item-num\">1.1&nbsp;&nbsp;</span>na</a></span></li><li><span><a href=\"#outer\" data-toc-modified-id=\"outer-1.2\"><span class=\"toc-item-num\">1.2&nbsp;&nbsp;</span>outer</a></span></li></ul></li></ul></div>"
   ]
  },
  {
   "cell_type": "code",
   "execution_count": 1,
   "metadata": {
    "ExecuteTime": {
     "end_time": "2021-12-07T10:32:51.139189Z",
     "start_time": "2021-12-07T10:32:51.111264Z"
    }
   },
   "outputs": [
    {
     "name": "stderr",
     "output_type": "stream",
     "text": [
      "25/09/16 15:27:25 WARN SQLConf: The SQL config 'spark.sql.execution.arrow.enabled' has been deprecated in Spark v3.0 and may be removed in the future. Use 'spark.sql.execution.arrow.pyspark.enabled' instead of it.\n",
      "25/09/16 15:27:25 WARN SQLConf: The SQL config 'spark.sql.execution.arrow.enabled' has been deprecated in Spark v3.0 and may be removed in the future. Use 'spark.sql.execution.arrow.pyspark.enabled' instead of it.\n"
     ]
    },
    {
     "data": {
      "text/html": [
       "\n",
       "            <div>\n",
       "                <p><b>SparkSession - hive</b></p>\n",
       "                \n",
       "        <div>\n",
       "            <p><b>SparkContext</b></p>\n",
       "\n",
       "            <p><a href=\"http://jupiter.olimp.fr:4040\">Spark UI</a></p>\n",
       "\n",
       "            <dl>\n",
       "              <dt>Version</dt>\n",
       "                <dd><code>v4.0.1</code></dd>\n",
       "              <dt>Master</dt>\n",
       "                <dd><code>spark://jupiter:7077</code></dd>\n",
       "              <dt>AppName</dt>\n",
       "                <dd><code>PySparkShell</code></dd>\n",
       "            </dl>\n",
       "        </div>\n",
       "        \n",
       "            </div>\n",
       "        "
      ],
      "text/plain": [
       "<pyspark.sql.session.SparkSession at 0x75030d3546e0>"
      ]
     },
     "execution_count": 1,
     "metadata": {},
     "output_type": "execute_result"
    }
   ],
   "source": [
    "spark"
   ]
  },
  {
   "cell_type": "code",
   "execution_count": 2,
   "metadata": {
    "ExecuteTime": {
     "end_time": "2021-12-07T10:32:51.109269Z",
     "start_time": "2021-12-07T10:32:51.092344Z"
    }
   },
   "outputs": [],
   "source": [
    "from pyspark.sql.functions import *\n",
    "from pyspark.sql.types     import StructType, \\\n",
    "     StructField, FloatType, \\\n",
    "     IntegerType, StringType"
   ]
  },
  {
   "cell_type": "code",
   "execution_count": 3,
   "metadata": {
    "ExecuteTime": {
     "end_time": "2021-12-07T10:33:06.715880Z",
     "start_time": "2021-12-07T10:32:51.142183Z"
    }
   },
   "outputs": [
    {
     "name": "stderr",
     "output_type": "stream",
     "text": [
      "25/09/16 15:27:30 WARN SQLConf: The SQL config 'spark.sql.execution.arrow.enabled' has been deprecated in Spark v3.0 and may be removed in the future. Use 'spark.sql.execution.arrow.pyspark.enabled' instead of it.\n",
      "25/09/16 15:27:31 WARN SparkStringUtils: Truncated the string representation of a plan since it was too large. This behavior can be adjusted by setting 'spark.sql.debug.maxToStringFields'.\n",
      "25/09/16 15:27:31 WARN SQLConf: The SQL config 'spark.sql.execution.arrow.enabled' has been deprecated in Spark v3.0 and may be removed in the future. Use 'spark.sql.execution.arrow.pyspark.enabled' instead of it.\n",
      "25/09/16 15:27:31 WARN SQLConf: The SQL config 'spark.sql.execution.arrow.enabled' has been deprecated in Spark v3.0 and may be removed in the future. Use 'spark.sql.execution.arrow.pyspark.enabled' instead of it.\n",
      "                                                                                "
     ]
    },
    {
     "data": {
      "text/html": [
       "<div>\n",
       "<style scoped>\n",
       "    .dataframe tbody tr th:only-of-type {\n",
       "        vertical-align: middle;\n",
       "    }\n",
       "\n",
       "    .dataframe tbody tr th {\n",
       "        vertical-align: top;\n",
       "    }\n",
       "\n",
       "    .dataframe thead th {\n",
       "        text-align: right;\n",
       "    }\n",
       "</style>\n",
       "<table border=\"1\" class=\"dataframe\">\n",
       "  <thead>\n",
       "    <tr style=\"text-align: right;\">\n",
       "      <th></th>\n",
       "      <th>annee</th>\n",
       "      <th>mois</th>\n",
       "      <th>jour</th>\n",
       "      <th>temperature</th>\n",
       "      <th>humidite</th>\n",
       "      <th>visibilite</th>\n",
       "      <th>pression</th>\n",
       "    </tr>\n",
       "  </thead>\n",
       "  <tbody>\n",
       "    <tr>\n",
       "      <th>0</th>\n",
       "      <td>2024</td>\n",
       "      <td>5</td>\n",
       "      <td>1</td>\n",
       "      <td>13.1</td>\n",
       "      <td>0.94</td>\n",
       "      <td>14.20</td>\n",
       "      <td>100.13</td>\n",
       "    </tr>\n",
       "    <tr>\n",
       "      <th>1</th>\n",
       "      <td>2024</td>\n",
       "      <td>5</td>\n",
       "      <td>1</td>\n",
       "      <td>14.5</td>\n",
       "      <td>0.85</td>\n",
       "      <td>16.03</td>\n",
       "      <td>100.56</td>\n",
       "    </tr>\n",
       "    <tr>\n",
       "      <th>2</th>\n",
       "      <td>2024</td>\n",
       "      <td>5</td>\n",
       "      <td>1</td>\n",
       "      <td>8.8</td>\n",
       "      <td>0.88</td>\n",
       "      <td>NaN</td>\n",
       "      <td>100.74</td>\n",
       "    </tr>\n",
       "  </tbody>\n",
       "</table>\n",
       "</div>"
      ],
      "text/plain": [
       "   annee  mois  jour  temperature  humidite  visibilite  pression\n",
       "0   2024     5     1         13.1      0.94       14.20    100.13\n",
       "1   2024     5     1         14.5      0.85       16.03    100.56\n",
       "2   2024     5     1          8.8      0.88         NaN    100.74"
      ]
     },
     "execution_count": 3,
     "metadata": {},
     "output_type": "execute_result"
    }
   ],
   "source": [
    "meteoDataFrame  = spark.read.format('csv')\\\n",
    "    .option('sep',';')\\\n",
    "    .option('header','true')\\\n",
    "    .option('nullValue','mq')\\\n",
    "    .option('inferSchema', 'true')\\\n",
    "    .load('donnees/meteo/2024')\\\n",
    "    .cache()\n",
    "\n",
    "schema = StructType([\n",
    "        StructField('Id'           , StringType() , True),\n",
    "        StructField('ville'        , StringType() , True),\n",
    "        StructField('latitude'     , FloatType() , True),\n",
    "        StructField('longitude'    , FloatType() , True),\n",
    "        StructField('altitude'     , IntegerType() , True)])\n",
    "\n",
    "villes  = spark.read.format('csv')   \\\n",
    "      .option('sep',';')                \\\n",
    "      .option('mergeSchema', 'true')    \\\n",
    "      .option('header','true')          \\\n",
    "      .schema(schema)                   \\\n",
    "      .load('donnees/postesSynop.csv')  \\\n",
    "      .cache()\n",
    "\n",
    "@udf(\"string\")\n",
    "def formatVille(ville):\n",
    "    if ville in ['CLERMONT-FD','MONT-DE-MARSAN',\n",
    "                                   'ST-PIERRE','ST-BARTHELEMY METEO'] :\n",
    "        return ville.title()\n",
    "    else :\n",
    "        if ville.find('-') != -1 :\n",
    "            return ville[0:ville.find('-')].title()\n",
    "        else:\n",
    "            return ville.title()\n",
    "\n",
    "villesT  = villes.select(\n",
    "                col('Id').alias('id'),\n",
    "                formatVille('ville').alias('ville'),\n",
    "               'latitude',\n",
    "               'longitude',\n",
    "               'altitude')\n",
    "\n",
    "\n",
    "meteo = meteoDataFrame.select(\n",
    "                 col('numer_sta'),\n",
    "                 col('date')[0:4].cast('int') ,\n",
    "                 col('date')[5:2].cast('int'),\n",
    "                 col('date')[7:2].cast('int'),\n",
    "                 col('date')[5:4],\n",
    "                 round(col('t') - 273.15,2),\n",
    "                 col('u') / 100 ,\n",
    "                 col('vv') / 1000 ,\n",
    "                 col('pres') / 1000,\n",
    "                 coalesce( col('rr3'),\n",
    "                           col('rr24')/8,\n",
    "                           col('rr12')/4,\n",
    "                           col('rr6')/2,\n",
    "                           col('rr1')*3  ) )\\\n",
    "             .toDF('id','annee','mois','jour','mois_jour','temperature',\n",
    "                   'humidite','visibilite','pression','precipitations')\\\n",
    "             .cache()\n",
    "\n",
    "meteo.select('annee','mois','jour','temperature','humidite',\n",
    "             'visibilite','pression').toPandas().head(3)"
   ]
  },
  {
   "cell_type": "code",
   "execution_count": 4,
   "metadata": {
    "ExecuteTime": {
     "end_time": "2021-12-07T10:33:07.480347Z",
     "start_time": "2021-12-07T10:33:06.717875Z"
    }
   },
   "outputs": [
    {
     "name": "stderr",
     "output_type": "stream",
     "text": [
      "                                                                                "
     ]
    },
    {
     "data": {
      "text/html": [
       "<div>\n",
       "<style scoped>\n",
       "    .dataframe tbody tr th:only-of-type {\n",
       "        vertical-align: middle;\n",
       "    }\n",
       "\n",
       "    .dataframe tbody tr th {\n",
       "        vertical-align: top;\n",
       "    }\n",
       "\n",
       "    .dataframe thead th {\n",
       "        text-align: right;\n",
       "    }\n",
       "</style>\n",
       "<table border=\"1\" class=\"dataframe\">\n",
       "  <thead>\n",
       "    <tr style=\"text-align: right;\">\n",
       "      <th></th>\n",
       "      <th>id</th>\n",
       "      <th>ville</th>\n",
       "      <th>latitude</th>\n",
       "      <th>longitude</th>\n",
       "      <th>altitude</th>\n",
       "    </tr>\n",
       "  </thead>\n",
       "  <tbody>\n",
       "    <tr>\n",
       "      <th>0</th>\n",
       "      <td>07005</td>\n",
       "      <td>Abbeville</td>\n",
       "      <td>50.136002</td>\n",
       "      <td>1.834000</td>\n",
       "      <td>69</td>\n",
       "    </tr>\n",
       "    <tr>\n",
       "      <th>1</th>\n",
       "      <td>07015</td>\n",
       "      <td>Lille</td>\n",
       "      <td>50.570000</td>\n",
       "      <td>3.097500</td>\n",
       "      <td>47</td>\n",
       "    </tr>\n",
       "    <tr>\n",
       "      <th>2</th>\n",
       "      <td>07020</td>\n",
       "      <td>Pte De La Hague</td>\n",
       "      <td>49.725166</td>\n",
       "      <td>-1.939833</td>\n",
       "      <td>6</td>\n",
       "    </tr>\n",
       "  </tbody>\n",
       "</table>\n",
       "</div>"
      ],
      "text/plain": [
       "      id            ville   latitude  longitude  altitude\n",
       "0  07005        Abbeville  50.136002   1.834000        69\n",
       "1  07015            Lille  50.570000   3.097500        47\n",
       "2  07020  Pte De La Hague  49.725166  -1.939833         6"
      ]
     },
     "execution_count": 4,
     "metadata": {},
     "output_type": "execute_result"
    }
   ],
   "source": [
    "villesT.toPandas().head(3)"
   ]
  },
  {
   "cell_type": "markdown",
   "metadata": {},
   "source": [
    "# isnull"
   ]
  },
  {
   "cell_type": "code",
   "execution_count": 5,
   "metadata": {
    "ExecuteTime": {
     "end_time": "2021-12-07T10:33:40.424942Z",
     "start_time": "2021-12-07T10:33:07.481344Z"
    }
   },
   "outputs": [],
   "source": [
    "meteo.where('id < 8000').count()\n",
    "description = meteo.where('id < 8000')\\\n",
    "     .select('annee','temperature', 'humidite',\n",
    "             'visibilite', 'pression','precipitations')\\\n",
    "     .describe()\\\n",
    "     .select([c if c == 'summary'\n",
    "                else round(c,2).alias(c)\n",
    "                for c in\n",
    "                    ['summary','annee','temperature', 'humidite',\n",
    "                   'visibilite', 'pression','precipitations']])\\\n",
    "     .toPandas()"
   ]
  },
  {
   "cell_type": "code",
   "execution_count": 6,
   "metadata": {
    "ExecuteTime": {
     "end_time": "2021-12-07T10:33:40.840871Z",
     "start_time": "2021-12-07T10:33:40.426938Z"
    }
   },
   "outputs": [
    {
     "data": {
      "text/plain": [
       "3042"
      ]
     },
     "execution_count": 6,
     "metadata": {},
     "output_type": "execute_result"
    }
   ],
   "source": [
    "meteo.where('id < 8000').where(meteo['temperature'].isNull()).count()"
   ]
  },
  {
   "cell_type": "code",
   "execution_count": 7,
   "metadata": {
    "ExecuteTime": {
     "end_time": "2021-12-07T10:33:41.372553Z",
     "start_time": "2021-12-07T10:33:40.841836Z"
    }
   },
   "outputs": [
    {
     "data": {
      "text/plain": [
       "3346"
      ]
     },
     "execution_count": 7,
     "metadata": {},
     "output_type": "execute_result"
    }
   ],
   "source": [
    "meteo.where('id < 8000').where(meteo['humidite'].isNull()).count()"
   ]
  },
  {
   "cell_type": "code",
   "execution_count": 8,
   "metadata": {
    "ExecuteTime": {
     "end_time": "2021-12-07T10:33:41.619952Z",
     "start_time": "2021-12-07T10:33:41.374549Z"
    }
   },
   "outputs": [
    {
     "data": {
      "text/plain": [
       "10544"
      ]
     },
     "execution_count": 8,
     "metadata": {},
     "output_type": "execute_result"
    }
   ],
   "source": [
    "meteo.where('id < 8000').where(meteo['visibilite'].isNull()).count()"
   ]
  },
  {
   "cell_type": "code",
   "execution_count": 9,
   "metadata": {
    "ExecuteTime": {
     "end_time": "2021-12-07T10:33:41.856293Z",
     "start_time": "2021-12-07T10:33:41.621920Z"
    }
   },
   "outputs": [
    {
     "data": {
      "text/plain": [
       "3432"
      ]
     },
     "execution_count": 9,
     "metadata": {},
     "output_type": "execute_result"
    }
   ],
   "source": [
    "meteo.where('id < 8000').where(meteo['pression'].isNull()).count()"
   ]
  },
  {
   "cell_type": "code",
   "execution_count": 10,
   "metadata": {
    "ExecuteTime": {
     "end_time": "2021-12-07T10:33:42.292233Z",
     "start_time": "2021-12-07T10:33:41.858288Z"
    }
   },
   "outputs": [
    {
     "data": {
      "text/plain": [
       "3181"
      ]
     },
     "execution_count": 10,
     "metadata": {},
     "output_type": "execute_result"
    }
   ],
   "source": [
    "meteo.where('id < 8000').where(meteo['precipitations'].isNull()).count()"
   ]
  },
  {
   "cell_type": "code",
   "execution_count": 11,
   "metadata": {
    "ExecuteTime": {
     "end_time": "2021-12-07T10:29:43.229612Z",
     "start_time": "2021-12-07T10:29:19.265615Z"
    },
    "scrolled": true
   },
   "outputs": [
    {
     "data": {
      "text/plain": [
       "id                    0\n",
       "annee                 0\n",
       "mois                  0\n",
       "jour                  0\n",
       "mois_jour             0\n",
       "temperature        3042\n",
       "humidite           3346\n",
       "visibilite        10544\n",
       "pression           3432\n",
       "precipitations     3181\n",
       "dtype: int64"
      ]
     },
     "execution_count": 11,
     "metadata": {},
     "output_type": "execute_result"
    }
   ],
   "source": [
    "meteo.where('id < 8000').toPandas().isna().sum()"
   ]
  },
  {
   "cell_type": "code",
   "execution_count": 12,
   "metadata": {
    "ExecuteTime": {
     "end_time": "2021-12-07T10:29:43.232604Z",
     "start_time": "2021-12-07T10:29:39.027Z"
    }
   },
   "outputs": [
    {
     "name": "stderr",
     "output_type": "stream",
     "text": [
      "                                                                                "
     ]
    },
    {
     "data": {
      "text/plain": [
       "numer_sta         0\n",
       "date              0\n",
       "pmer          10436\n",
       "tend           3556\n",
       "cod_tend       3551\n",
       "dd              604\n",
       "ff              604\n",
       "t              5087\n",
       "td             5789\n",
       "u              4393\n",
       "vv            45488\n",
       "ww            48283\n",
       "w1           157943\n",
       "w2           166113\n",
       "n            103947\n",
       "nbas          60700\n",
       "hbas          88204\n",
       "cl           160254\n",
       "cm           165059\n",
       "ch           166898\n",
       "pres           3466\n",
       "niv_bar      170630\n",
       "geop         170630\n",
       "tend24         8783\n",
       "tn12         144573\n",
       "tn24         142652\n",
       "tx12         145155\n",
       "tx24         142449\n",
       "tminsol       72479\n",
       "sw           176468\n",
       "tw           176468\n",
       "raf10         28930\n",
       "rafper         7078\n",
       "per            6097\n",
       "etat_sol     100346\n",
       "ht_neige      77934\n",
       "ssfrai       172045\n",
       "perssfrai    172045\n",
       "rr1            6731\n",
       "rr3            8095\n",
       "rr6           10091\n",
       "rr12          11543\n",
       "rr24          13603\n",
       "phenspe1     176468\n",
       "phenspe2     176468\n",
       "phenspe3     176468\n",
       "phenspe4     176468\n",
       "nnuage1       86549\n",
       "ctype1       159107\n",
       "hnuage1       88945\n",
       "nnuage2      129668\n",
       "ctype2       167876\n",
       "hnuage2      129668\n",
       "nnuage3      154346\n",
       "ctype3       171951\n",
       "hnuage3      154346\n",
       "nnuage4      176194\n",
       "ctype4       169726\n",
       "hnuage4      176194\n",
       "_c59         176468\n",
       "dtype: int64"
      ]
     },
     "execution_count": 12,
     "metadata": {},
     "output_type": "execute_result"
    }
   ],
   "source": [
    "meteoDataFrame.toPandas().isna().sum()"
   ]
  },
  {
   "cell_type": "code",
   "execution_count": 1,
   "metadata": {},
   "outputs": [
    {
     "ename": "ModuleNotFoundError",
     "evalue": "No module named 'koalas'",
     "output_type": "error",
     "traceback": [
      "\u001b[31m---------------------------------------------------------------------------\u001b[39m",
      "\u001b[31mModuleNotFoundError\u001b[39m                       Traceback (most recent call last)",
      "\u001b[36mCell\u001b[39m\u001b[36m \u001b[39m\u001b[32mIn[1]\u001b[39m\u001b[32m, line 1\u001b[39m\n\u001b[32m----> \u001b[39m\u001b[32m1\u001b[39m \u001b[38;5;28;01mimport\u001b[39;00m\u001b[38;5;250m \u001b[39m\u001b[34;01mkoalas\u001b[39;00m\u001b[38;5;250m \u001b[39m\u001b[38;5;28;01mas\u001b[39;00m\u001b[38;5;250m \u001b[39m\u001b[34;01mks\u001b[39;00m\n",
      "\u001b[31mModuleNotFoundError\u001b[39m: No module named 'koalas'"
     ]
    }
   ],
   "source": [
    "import koalas as ks"
   ]
  },
  {
   "cell_type": "code",
   "execution_count": 13,
   "metadata": {
    "ExecuteTime": {
     "end_time": "2021-12-07T10:34:02.439495Z",
     "start_time": "2021-12-07T10:33:51.776388Z"
    },
    "scrolled": true
   },
   "outputs": [
    {
     "ename": "ModuleNotFoundError",
     "evalue": "No module named 'koalas'",
     "output_type": "error",
     "traceback": [
      "\u001b[31m---------------------------------------------------------------------------\u001b[39m",
      "\u001b[31mModuleNotFoundError\u001b[39m                       Traceback (most recent call last)",
      "\u001b[36mCell\u001b[39m\u001b[36m \u001b[39m\u001b[32mIn[13]\u001b[39m\u001b[32m, line 1\u001b[39m\n\u001b[32m----> \u001b[39m\u001b[32m1\u001b[39m \u001b[38;5;28;01mimport\u001b[39;00m\u001b[38;5;250m \u001b[39m\u001b[34;01mkoalas\u001b[39;00m\u001b[38;5;250m \u001b[39m\u001b[38;5;28;01mas\u001b[39;00m\u001b[38;5;250m \u001b[39m\u001b[34;01mks\u001b[39;00m\n\u001b[32m      2\u001b[39m meteoDataFrame.to_koalas().isna().sum()\n",
      "\u001b[31mModuleNotFoundError\u001b[39m: No module named 'koalas'"
     ]
    }
   ],
   "source": [
    "\n",
    "meteoDataFrame.to_koalas().isna().sum()"
   ]
  },
  {
   "cell_type": "code",
   "execution_count": null,
   "metadata": {
    "ExecuteTime": {
     "end_time": "2021-12-07T10:34:33.955132Z",
     "start_time": "2021-12-07T10:34:33.177353Z"
    }
   },
   "outputs": [],
   "source": [
    "meteo.where('id < 8000')\\\n",
    "     .where(meteo['temperature'].isNotNull())\\\n",
    "     .where(meteo['humidite'].isNotNull() )\\\n",
    "     .where(meteo['visibilite'].isNotNull() )\\\n",
    "     .where(meteo['pression'].isNotNull() )\\\n",
    "     .count()"
   ]
  },
  {
   "cell_type": "markdown",
   "metadata": {},
   "source": [
    "## na"
   ]
  },
  {
   "cell_type": "code",
   "execution_count": null,
   "metadata": {
    "ExecuteTime": {
     "end_time": "2021-12-07T10:34:40.997924Z",
     "start_time": "2021-12-07T10:34:40.080893Z"
    }
   },
   "outputs": [],
   "source": [
    "meteo.where('id < 8000')\\\n",
    "     .na.fill(0 ,[\"precipitations\"])\\\n",
    "     .na.drop()\\\n",
    "     .count()"
   ]
  },
  {
   "cell_type": "code",
   "execution_count": null,
   "metadata": {
    "ExecuteTime": {
     "end_time": "2021-12-07T10:34:48.362958Z",
     "start_time": "2021-12-07T10:34:48.232305Z"
    }
   },
   "outputs": [],
   "source": [
    "meteo = meteoDataFrame.select(\n",
    "                 col('numer_sta'),\n",
    "                 col('date')[0:4].cast('int') ,\n",
    "                 col('date')[5:2].cast('int'),\n",
    "                 col('date')[7:2].cast('int'),\n",
    "                 col('date')[5:4],\n",
    "                 round(col('t') - 273.15,2),\n",
    "                 col('u') / 100 ,\n",
    "                 col('vv') / 1000 ,\n",
    "                 col('pres') / 1000,\n",
    "                 col('rr1')*3,\n",
    "                 col('rr3'),\n",
    "                 col('rr6')/2,\n",
    "                 col('rr12')/4,\n",
    "                 col('rr24')/8)\\\n",
    "                   .toDF('id','annee','mois','jour','mois_jour','temperature',\n",
    "                   'humidite','visibilite','pression',\n",
    "                   'precipitations1','precipitations3','precipitations6',\n",
    "                   'precipitations12','precipitations24')\\\n",
    "             .cache()"
   ]
  },
  {
   "cell_type": "code",
   "execution_count": null,
   "metadata": {
    "ExecuteTime": {
     "end_time": "2021-12-07T10:35:01.500863Z",
     "start_time": "2021-12-07T10:34:54.105203Z"
    }
   },
   "outputs": [],
   "source": [
    "meteo.where('id < 8000')\\\n",
    "       .select('precipitations1','precipitations3','precipitations6',\n",
    "             'precipitations12','precipitations24','temperature')\\\n",
    "       .toDF('prec1','prec3','prec6','prec12','prec24','temp')\\\n",
    "       .describe()\\\n",
    "       .select([c if c == 'summary'\n",
    "                else round(c,2).alias(c)\n",
    "                for c in['prec1','prec3','prec6',\n",
    "                          'prec12','prec24','temp']])\\\n",
    "      .toPandas()"
   ]
  },
  {
   "cell_type": "code",
   "execution_count": null,
   "metadata": {
    "ExecuteTime": {
     "end_time": "2021-12-07T10:35:42.970582Z",
     "start_time": "2021-12-07T10:35:42.872820Z"
    }
   },
   "outputs": [],
   "source": [
    "meteo.select( coalesce('precipitations3','precipitations24',\n",
    "                       'precipitations12','precipitations6',\n",
    "                       'precipitations1').alias('precipitations')).toPandas().head(20)"
   ]
  },
  {
   "cell_type": "code",
   "execution_count": null,
   "metadata": {
    "ExecuteTime": {
     "end_time": "2021-12-07T10:35:55.833961Z",
     "start_time": "2021-12-07T10:35:55.434994Z"
    }
   },
   "outputs": [],
   "source": [
    "meteo.where('id < 8000')\\\n",
    "     .select( coalesce('precipitations24','precipitations12',\n",
    "                       'precipitations6','precipitations3',\n",
    "                       'precipitations1').alias('precipitationsH')\n",
    "            ).describe().toPandas()"
   ]
  },
  {
   "cell_type": "code",
   "execution_count": null,
   "metadata": {
    "ExecuteTime": {
     "end_time": "2021-12-07T10:36:08.488986Z",
     "start_time": "2021-12-07T10:36:02.856777Z"
    }
   },
   "outputs": [],
   "source": [
    "meteo.to_koalas().isna().sum()"
   ]
  },
  {
   "cell_type": "code",
   "execution_count": null,
   "metadata": {
    "ExecuteTime": {
     "end_time": "2021-12-07T10:36:59.616756Z",
     "start_time": "2021-12-07T10:36:59.400302Z"
    }
   },
   "outputs": [],
   "source": [
    "meteo.where('id < 8000').count()"
   ]
  }
 ],
 "metadata": {
  "kernelspec": {
   "display_name": "Python 3 (ipykernel)",
   "language": "python",
   "name": "python3"
  },
  "language_info": {
   "codemirror_mode": {
    "name": "ipython",
    "version": 3
   },
   "file_extension": ".py",
   "mimetype": "text/x-python",
   "name": "python",
   "nbconvert_exporter": "python",
   "pygments_lexer": "ipython3",
   "version": "3.13.0"
  },
  "toc": {
   "base_numbering": 1,
   "nav_menu": {},
   "number_sections": true,
   "sideBar": true,
   "skip_h1_title": false,
   "title_cell": "Table of Contents",
   "title_sidebar": "Contents",
   "toc_cell": true,
   "toc_position": {},
   "toc_section_display": true,
   "toc_window_display": true
  }
 },
 "nbformat": 4,
 "nbformat_minor": 4
}
